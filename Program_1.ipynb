{
  "nbformat": 4,
  "nbformat_minor": 0,
  "metadata": {
    "colab": {
      "provenance": [],
      "authorship_tag": "ABX9TyMpMv5F7YO+vcsGlBeoP3DX",
      "include_colab_link": true
    },
    "kernelspec": {
      "name": "python3",
      "display_name": "Python 3"
    },
    "language_info": {
      "name": "python"
    }
  },
  "cells": [
    {
      "cell_type": "markdown",
      "metadata": {
        "id": "view-in-github",
        "colab_type": "text"
      },
      "source": [
        "<a href=\"https://colab.research.google.com/github/naveenmk404/OOP_Lab_1BM22AI404/blob/main/Program_1.ipynb\" target=\"_parent\"><img src=\"https://colab.research.google.com/assets/colab-badge.svg\" alt=\"Open In Colab\"/></a>"
      ]
    },
    {
      "cell_type": "markdown",
      "source": [
        "a) program to check whether the instance belongs to the class or not and the classes are the subclasses of the buildin object"
      ],
      "metadata": {
        "id": "QpKEASM_GMos"
      }
    },
    {
      "cell_type": "code",
      "execution_count": 24,
      "metadata": {
        "colab": {
          "base_uri": "https://localhost:8080/"
        },
        "id": "sYcW7mf-AAdy",
        "outputId": "23f2ef4b-0914-4137-d11e-bc15f5170a60"
      },
      "outputs": [
        {
          "output_type": "stream",
          "name": "stdout",
          "text": [
            "is S1 is the instance of Student class ? -> True\n",
            "is M1 is the instance of Marks class ? -> True\n",
            "\n",
            "is Student sublass of object ? -> True\n",
            "is Marks sublass of object ? -> True\n"
          ]
        }
      ],
      "source": [
        "class Student:\n",
        "    def __init__(self,name,usn,branch):\n",
        "        self.name=name\n",
        "        self.usn=usn\n",
        "        self.branch=branch\n",
        "\n",
        "\n",
        "class Marks:\n",
        "    def __init__(self,sub1,sub2,sub3):\n",
        "        self.sub1=sub1\n",
        "        self.sub2=sub2\n",
        "        self.sub3=sub3\n",
        "\n",
        "s1=Student('John','1BM22AI404','AIML')\n",
        "s1marks=Marks(20,40,60)\n",
        "\n",
        "print(f\"is S1 is the instance of Student class ? -> {isinstance(s1,Student)}\")\n",
        "print(f\"is M1 is the instance of Marks class ? -> {isinstance(s1marks,Marks)}\")\n",
        "\n",
        "print()\n",
        "\n",
        "print(f\"is Student sublass of object ? -> {issubclass(Student,object)}\")\n",
        "print(f\"is Marks sublass of object ? -> {issubclass(Marks,object)}\")"
      ]
    },
    {
      "cell_type": "markdown",
      "source": [
        "b) performing addition of two complex number using COMPLEX class"
      ],
      "metadata": {
        "id": "JmCSN34hHjws"
      }
    },
    {
      "cell_type": "code",
      "source": [
        "class Complex:\n",
        "    real_part = 0\n",
        "    img_part = 0\n",
        "\n",
        "    def __init__(self, real_part, img_part):\n",
        "        self.real_part = real_part\n",
        "        self.img_part = img_part\n",
        "\n",
        "    def addComplex(self, other):\n",
        "        result = Complex(0, 0)\n",
        "        result.real_part = self.real_part + other.real_part\n",
        "        result.img_part = self.img_part + other.img_part\n",
        "        return result\n",
        "\n",
        "\n",
        "c1 = Complex(2, 1)\n",
        "c2 = Complex(3, 1)\n",
        "\n",
        "c3 = c1.addComplex(c2)\n",
        "\n",
        "print(f\"c1 : {c1.real_part} + {c1.img_part}i \")\n",
        "print(f\"c2 : {c2.real_part} + {c2.img_part}i \")\n",
        "\n",
        "print(f\"c1+c2 = {c3.real_part} + {c3.img_part}i\")\n"
      ],
      "metadata": {
        "colab": {
          "base_uri": "https://localhost:8080/"
        },
        "id": "EI4e0d2YHjWl",
        "outputId": "ef4171d6-0a72-4547-9929-d1d72d8ab278"
      },
      "execution_count": 47,
      "outputs": [
        {
          "output_type": "stream",
          "name": "stdout",
          "text": [
            "c1 : 2 + 1i \n",
            "c2 : 3 + 1i \n",
            "c1+c2 = 5 + 2i\n"
          ]
        }
      ]
    }
  ]
}