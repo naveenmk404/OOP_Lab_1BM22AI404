{
  "nbformat": 4,
  "nbformat_minor": 0,
  "metadata": {
    "colab": {
      "provenance": [],
      "authorship_tag": "ABX9TyOC7vBTKy+6eeHd9zoEyLTa",
      "include_colab_link": true
    },
    "kernelspec": {
      "name": "python3",
      "display_name": "Python 3"
    },
    "language_info": {
      "name": "python"
    }
  },
  "cells": [
    {
      "cell_type": "markdown",
      "metadata": {
        "id": "view-in-github",
        "colab_type": "text"
      },
      "source": [
        "<a href=\"https://colab.research.google.com/github/naveenmk404/OOP_Lab_1BM22AI404/blob/main/OOP.ipynb\" target=\"_parent\"><img src=\"https://colab.research.google.com/assets/colab-badge.svg\" alt=\"Open In Colab\"/></a>"
      ]
    },
    {
      "cell_type": "markdown",
      "source": [
        "#4.\n",
        "python function to encrypt and decrypt a given string  \n",
        "20/11/2023"
      ],
      "metadata": {
        "id": "WDKDOLSG1l1f"
      }
    },
    {
      "cell_type": "code",
      "execution_count": 13,
      "metadata": {
        "colab": {
          "base_uri": "https://localhost:8080/"
        },
        "id": "m9F7lNfV1e2L",
        "outputId": "4de563ea-90fc-489c-ca41-ce0ce5cac701"
      },
      "outputs": [
        {
          "output_type": "stream",
          "name": "stdout",
          "text": [
            "original string:  Good Morning\n",
            "encrypted string:  b'gAAAAABlZBcjGEBSO-RDmONKjc9t04oIx-DiGuUIFYSXgfUl81eru9oIH9RUR4GO_ZWUlNBioYC747Kp5YU0deecMqu37Ax3ng=='\n",
            "decrypted string:  Good Morning\n"
          ]
        }
      ],
      "source": [
        "from cryptography.fernet import Fernet\n",
        "message = \"Good Morning\"\n",
        "\n",
        "key = Fernet.generate_key()\n",
        "\n",
        "fernet = Fernet(key)\n",
        "encMessage = fernet.encrypt(message.encode())\n",
        "\n",
        "print(\"original string: \", message)\n",
        "print(\"encrypted string: \", encMessage)\n",
        "\n",
        "decMessage = fernet.decrypt(encMessage).decode()\n",
        "\n",
        "print(\"decrypted string: \", decMessage)\n"
      ]
    },
    {
      "cell_type": "markdown",
      "source": [
        "5.\n",
        "#20/11/2023"
      ],
      "metadata": {
        "id": "lcYcDlFw4IHH"
      }
    },
    {
      "cell_type": "code",
      "source": [],
      "metadata": {
        "id": "Zu6AdXw04HdW"
      },
      "execution_count": null,
      "outputs": []
    },
    {
      "cell_type": "markdown",
      "source": [
        "# 6.\n",
        "program to create two empty classes, STUDENT and MARKS. create some instances and check whether the sadi classes are subclasses of the built-in object class or not\n",
        "20/11/2023"
      ],
      "metadata": {
        "id": "mg152q7b4Oy-"
      }
    },
    {
      "cell_type": "code",
      "source": [
        "class Student:\n",
        "  def __init__(self,name,age,dept):\n",
        "    self.name=name\n",
        "    self.age=age\n",
        "    self.dept=dept\n",
        "\n",
        "class Marks:\n",
        "  def __init__(self,subject,marks):\n",
        "    self.subject=subject\n",
        "    self.marks=marks\n",
        "\n",
        "s1=Student(\"Abhishek\",20,\"CSE\")\n",
        "m1=Marks('OOP',20)\n",
        "# print(s1.name)\n",
        "# print(s1.age)\n",
        "# print(s1.dept)\n",
        "\n",
        "x=isinstance(s1,Student)\n",
        "y=isinstance(m1,Marks)\n",
        "\n",
        "print(x)\n",
        "print(y)\n"
      ],
      "metadata": {
        "colab": {
          "base_uri": "https://localhost:8080/"
        },
        "id": "tqYYweTc4P4o",
        "outputId": "ec989ed9-388d-4e30-84c1-5c7fe19a8099"
      },
      "execution_count": null,
      "outputs": [
        {
          "output_type": "stream",
          "name": "stdout",
          "text": [
            "True\n",
            "True\n"
          ]
        }
      ]
    },
    {
      "cell_type": "markdown",
      "source": [
        "#7.\n",
        "create a python class birthdayboy that has 2 variables\n",
        " a) A string name\n",
        " b) An integer age\n",
        " Do not forget init function within birthday boy create a method called birthday that increase the value of age by 1. Once this class has been created create an instance of the class then call birthday methods on that to increases it age and print the same"
      ],
      "metadata": {
        "id": "rPEyQ5_B4I6w"
      }
    },
    {
      "cell_type": "code",
      "source": [
        "class BirthDayBoy :\n",
        "  def __init__(self,name,age):\n",
        "    self.name=name\n",
        "    self.age=age\n",
        "\n",
        "  def birthDay(name,age):\n",
        "    age+=1\n",
        "    print(name)\n",
        "    print(age)\n",
        "\n",
        "bd = BirthDayBoy.birthDay(\"Akshay\",21)\n",
        ""
      ],
      "metadata": {
        "colab": {
          "base_uri": "https://localhost:8080/"
        },
        "id": "1nAh5P0y5w2B",
        "outputId": "f63621ce-03f0-46ce-f1b0-a5b5d50297c5"
      },
      "execution_count": 12,
      "outputs": [
        {
          "output_type": "stream",
          "name": "stdout",
          "text": [
            "Akshay\n",
            "22\n"
          ]
        }
      ]
    },
    {
      "cell_type": "markdown",
      "source": [
        "#8.\n",
        "Define a class called songs. It will show the lyrics of a song its __init__() method should have two arguments self and lyrics. lyrics is a list inside your class create a mtehod called sing_me_song that prints each element of lyrics on his own line. Define a variable :\n",
        "happy_bday=Song([\"May god bless you, \", \"Have a sunshine on you \", \"Happy Birthday to you !\"])\n",
        "\n",
        "call the sing_me_song method on this variable"
      ],
      "metadata": {
        "id": "BCiK5DgL7RpQ"
      }
    },
    {
      "cell_type": "code",
      "source": [
        "class Songs :\n",
        "  def __init__(self,lyrics):\n",
        "    self.lyrics=lyrics\n",
        "\n",
        "  def sing_me_song(self):\n",
        "    for line in self.lyrics:\n",
        "      print(line)\n",
        "\n",
        "happy_bday=Songs([\"May god bless you, \", \"Have a sunshine on you \", \"Happy Birthday to you !\"])\n",
        "happy_bday.sing_me_song()"
      ],
      "metadata": {
        "colab": {
          "base_uri": "https://localhost:8080/"
        },
        "id": "5y5Dvno28qTh",
        "outputId": "e61f9acb-9996-4f18-80fd-c27e58528c98"
      },
      "execution_count": 20,
      "outputs": [
        {
          "output_type": "stream",
          "name": "stdout",
          "text": [
            "May god bless you, \n",
            "Have a sunshine on you \n",
            "Happy Birthday to you !\n"
          ]
        }
      ]
    },
    {
      "cell_type": "markdown",
      "source": [
        "#9.\n",
        "Class Dog\n",
        "attributes : Name, size, breed default : \"Unknown\", Date of birth in DD/MM/YYYY format default : \"Unknown\"\n",
        "\n",
        "Methods :\n",
        "Bark() this should get the dog to bark (print the word : wooo)\n",
        "pet_name(): This should return the dog's name\n",
        "set_name() : This should allow the user to set an alphanumerical name between 2 and 30 characters. convert the name to title case before setting\n",
        "dog_years() : this should calculate a dog's age in dog years (use 1 year = 7 dog years)"
      ],
      "metadata": {
        "id": "upaQP0PBDdoU"
      }
    },
    {
      "cell_type": "code",
      "source": [
        "class Dog :\n",
        "  def __init__(self):\n",
        "    self.name=input(\"Enter name of dog : \")\n",
        "    self.size=input(\"Enter size : \")\n",
        "    self.breed=input(\"Enter breed : \" or \"Unknown\")\n",
        "    self.birth_date=input(\"Enter birth_date : \" or \"Unknown\")\n",
        "\n",
        "  def Bark(self):\n",
        "    print(\"Wooh\")\n",
        "\n",
        "  def get_input(self):\n",
        "    while True:\n",
        "      print(\"1 : \")"
      ],
      "metadata": {
        "id": "exfPyA_PDcsU"
      },
      "execution_count": 32,
      "outputs": []
    },
    {
      "cell_type": "markdown",
      "source": [
        "create paramaterized constructor for rectangle class that takes 2 arguments length and breadth and intializes the length and breadth attributes of the object with the values pass an argument"
      ],
      "metadata": {
        "id": "ogGp8wrq4khu"
      }
    },
    {
      "cell_type": "code",
      "source": [
        "class Rectangle:\n",
        "\n",
        "  def __init__(self,length,breadth):\n",
        "    self.length=length\n",
        "    self.breadth=breadth\n",
        "\n",
        "  def area(self):\n",
        "    area=self.length*self.breadth\n",
        "    print(\"Area of rectangle : \",area)\n",
        "\n",
        "rect = Rectangle(3,4)\n",
        "rect.area()"
      ],
      "metadata": {
        "colab": {
          "base_uri": "https://localhost:8080/"
        },
        "id": "pWd7LufLCmlR",
        "outputId": "cee0d911-24e6-45a2-e8f6-e56341f63419"
      },
      "execution_count": 22,
      "outputs": [
        {
          "output_type": "stream",
          "name": "stdout",
          "text": [
            "Area of rectangle :  12\n"
          ]
        }
      ]
    },
    {
      "cell_type": "markdown",
      "source": [
        "create a default constructor for student class\n",
        "the default constructor intializes name, age and grade attributes of the object thier default values"
      ],
      "metadata": {
        "id": "d1sXZECGA-kY"
      }
    },
    {
      "cell_type": "markdown",
      "source": [
        "brand, model and year that accepts key arguements intialize the class instance variable with the values supplied\n",
        "the display_car_details method is invoked using the class object and it is used to show the car's details"
      ],
      "metadata": {
        "id": "k0S_GsYs9Uxw"
      }
    }
  ]
}